{
  "nbformat": 4,
  "nbformat_minor": 0,
  "metadata": {
    "colab": {
      "provenance": []
    },
    "kernelspec": {
      "name": "python3",
      "display_name": "Python 3"
    },
    "language_info": {
      "name": "python"
    }
  },
  "cells": [
    {
      "cell_type": "markdown",
      "source": [
        "# Image-To-Text : Gradio Demo"
      ],
      "metadata": {
        "id": "nc-7WpglsW0S"
      }
    },
    {
      "cell_type": "code",
      "execution_count": 9,
      "metadata": {
        "colab": {
          "base_uri": "https://localhost:8080/",
          "height": 626
        },
        "id": "uH8RVgnBfAN_",
        "outputId": "c1c47041-3eba-4c6d-ad0a-f3f11ebfa0d5"
      },
      "outputs": [
        {
          "output_type": "stream",
          "name": "stderr",
          "text": [
            "Device set to use cpu\n"
          ]
        },
        {
          "output_type": "stream",
          "name": "stdout",
          "text": [
            "Colab notebook detected. To show errors in colab notebook, set debug=True in launch()\n",
            "* Running on public URL: https://0b5cacf900b365cf50.gradio.live\n",
            "\n",
            "This share link expires in 1 week. For free permanent hosting and GPU upgrades, run `gradio deploy` from the terminal in the working directory to deploy to Hugging Face Spaces (https://huggingface.co/spaces)\n"
          ]
        },
        {
          "output_type": "display_data",
          "data": {
            "text/plain": [
              "<IPython.core.display.HTML object>"
            ],
            "text/html": [
              "<div><iframe src=\"https://0b5cacf900b365cf50.gradio.live\" width=\"100%\" height=\"500\" allow=\"autoplay; camera; microphone; clipboard-read; clipboard-write;\" frameborder=\"0\" allowfullscreen></iframe></div>"
            ]
          },
          "metadata": {}
        },
        {
          "output_type": "execute_result",
          "data": {
            "text/plain": []
          },
          "metadata": {},
          "execution_count": 9
        }
      ],
      "source": [
        "\"\"\"\n",
        "from transformers import pipeline\n",
        "import gradio as gr\n",
        "from PIL import Image\n",
        "\n",
        "captioner = pipeline(model=\"ydshieh/vit-gpt2-coco-en\")\n",
        "\n",
        "\n",
        "gr.title('Image To Text')\n",
        "\n",
        "with gr.form('app'):\n",
        "    upload_file = gr.file_uploader(\"Upload Image\")\n",
        "    submit = gr.form_submit_button('Extract')\n",
        "    if submit:\n",
        "        image = Image.open(upload_file)\n",
        "        result = captioner(image)[0]['generated_text']\n",
        "        gr.image(image)\n",
        "        gr.subheader('Result Text')\n",
        "        gr.text(result)\n",
        "\"\"\"\n",
        "\n",
        "from transformers import pipeline\n",
        "import gradio as gr\n",
        "from PIL import Image\n",
        "\n",
        "# Initialize the image captioning pipeline\n",
        "captioner = pipeline(\"image-to-text\", model=\"ydshieh/vit-gpt2-coco-en\")\n",
        "\n",
        "def generate_caption(image):\n",
        "    \"\"\"Generate caption from uploaded image\"\"\"\n",
        "    if image is None:\n",
        "        return None, \"Please upload an image\"\n",
        "\n",
        "    # Open image and generate caption\n",
        "    img = Image.open(image)\n",
        "    result = captioner(img)[0]['generated_text']\n",
        "    return img, result  # Return both image and text\n",
        "\n",
        "# Create Gradio interface\n",
        "with gr.Blocks(title=\"Image To Text\") as app:\n",
        "    gr.Markdown(\"#Image to Text\")  # Optional header for display\n",
        "\n",
        "    with gr.Row():\n",
        "        with gr.Column():\n",
        "            upload_file = gr.Image(type=\"filepath\", label=\"Upload Image\")\n",
        "            submit = gr.Button(\"Extract Caption\")\n",
        "\n",
        "        with gr.Column():\n",
        "            output_image = gr.Image(label=\"Uploaded Image\", interactive=False)\n",
        "            output_text = gr.Textbox(label=\"Generated Caption\")\n",
        "\n",
        "    submit.click(\n",
        "        fn=generate_caption,\n",
        "        inputs=upload_file,\n",
        "        outputs=[output_image, output_text]\n",
        "    )\n",
        "\n",
        "app.launch(share=True)  # Run the app"
      ]
    },
    {
      "cell_type": "markdown",
      "source": [
        "# Image-To-Text : Streamlit Demo"
      ],
      "metadata": {
        "id": "uREtNSKlsjbm"
      }
    },
    {
      "cell_type": "code",
      "source": [
        "\"\"\"\n",
        "from transformers import pipeline\n",
        "import streamlit as st\n",
        "from PIL import Image\n",
        "\n",
        "captioner = pipeline(model=\"ydshieh/vit-gpt2-coco-en\")\n",
        "\n",
        "\n",
        "st.title('Image To Text')\n",
        "\n",
        "with st.form('app'):\n",
        "    upload_file = st.file_uploader(\"Upload Image\")\n",
        "    submit = st.form_submit_button('Extract Caption')\n",
        "    if submit:\n",
        "        image = Image.open(upload_file)\n",
        "        result = captioner(image)[0]['generated_text']\n",
        "        st.image(image)\n",
        "        st.subheader('Result Text')\n",
        "        st.text(result)\n",
        "\"\"\"\n",
        "\n",
        "from transformers import pipeline\n",
        "import streamlit as st\n",
        "from PIL import Image\n",
        "\n",
        "# Initialize the model only once using Streamlit cache\n",
        "@st.cache_resource\n",
        "def load_model():\n",
        "    return pipeline(\"image-to-text\", model=\"ydshieh/vit-gpt2-coco-en\")\n",
        "\n",
        "captioner = load_model()\n",
        "\n",
        "st.title('Image to Text')\n",
        "\n",
        "def generate_caption(upload_file):\n",
        "    \"\"\"Generate caption from uploaded image\"\"\"\n",
        "    if upload_file is None:\n",
        "        return None, \"Please upload an image first\"\n",
        "\n",
        "    try:\n",
        "        image = Image.open(upload_file)\n",
        "        result = captioner(image)[0]['generated_text']\n",
        "        return image, result\n",
        "    except Exception as e:\n",
        "        return None, f\"Error processing image: {str(e)}\"\n",
        "\n",
        "# File uploader outside the form for better UI flow\n",
        "upload_file = st.file_uploader(\"Upload an image\", type=[\"jpg\", \"jpeg\", \"png\"])\n",
        "\n",
        "# Display image immediately after upload\n",
        "if upload_file is not None:\n",
        "    st.image(upload_file, caption=\"Uploaded Image\", use_column_width=True)\n",
        "\n",
        "# Separate caption generation button\n",
        "if st.button('Extract Caption', disabled=(upload_file is None)):\n",
        "    if upload_file:\n",
        "        image, caption = generate_caption(upload_file)\n",
        "        if image:\n",
        "            st.subheader('Generated Caption:')\n",
        "            st.success(caption)\n",
        "    else:\n",
        "        st.warning(\"Please upload an image first\")"
      ],
      "metadata": {
        "colab": {
          "base_uri": "https://localhost:8080/"
        },
        "id": "sDwKC7zUsmoU",
        "outputId": "be6818f3-4240-4f01-e11e-0da01e9cc473"
      },
      "execution_count": 23,
      "outputs": [
        {
          "output_type": "stream",
          "name": "stderr",
          "text": [
            "2025-05-28 21:15:55.285 Thread 'MainThread': missing ScriptRunContext! This warning can be ignored when running in bare mode.\n",
            "2025-05-28 21:15:55.287 Thread 'MainThread': missing ScriptRunContext! This warning can be ignored when running in bare mode.\n",
            "2025-05-28 21:15:55.291 Thread 'MainThread': missing ScriptRunContext! This warning can be ignored when running in bare mode.\n",
            "2025-05-28 21:15:55.294 Thread 'MainThread': missing ScriptRunContext! This warning can be ignored when running in bare mode.\n",
            "2025-05-28 21:15:55.296 Thread 'MainThread': missing ScriptRunContext! This warning can be ignored when running in bare mode.\n",
            "2025-05-28 21:15:55.297 Thread 'MainThread': missing ScriptRunContext! This warning can be ignored when running in bare mode.\n",
            "2025-05-28 21:15:55.298 Thread 'MainThread': missing ScriptRunContext! This warning can be ignored when running in bare mode.\n",
            "2025-05-28 21:15:55.300 Thread 'MainThread': missing ScriptRunContext! This warning can be ignored when running in bare mode.\n",
            "2025-05-28 21:15:55.301 Thread 'MainThread': missing ScriptRunContext! This warning can be ignored when running in bare mode.\n",
            "2025-05-28 21:15:55.302 Thread 'MainThread': missing ScriptRunContext! This warning can be ignored when running in bare mode.\n",
            "2025-05-28 21:15:55.306 Thread 'MainThread': missing ScriptRunContext! This warning can be ignored when running in bare mode.\n",
            "2025-05-28 21:15:55.307 Thread 'MainThread': missing ScriptRunContext! This warning can be ignored when running in bare mode.\n"
          ]
        }
      ]
    }
  ]
}